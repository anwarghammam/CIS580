{
 "cells": [
  {
   "cell_type": "code",
   "execution_count": 37,
   "id": "aab60b96",
   "metadata": {},
   "outputs": [],
   "source": [
    "import subprocess\n",
    "def get_nodes():\n",
    "\n",
    "        machines=[]\n",
    "\n",
    "        with  open(r\"./test3.txt\",'w') as file :\n",
    "\n",
    "\n",
    "            cmd = ('docker-machine ssh manager docker node ls').split()\n",
    "\n",
    "            p = subprocess.Popen(cmd,stdout=file)\n",
    "            output, errors = p.communicate()\n",
    "            \n",
    "\n",
    "\n",
    "        with open(r\"./test3.txt\",'r') as file:\n",
    "\n",
    "\n",
    "            for line in file:\n",
    "                \n",
    "                line=line.replace(\"*\",'')\n",
    "                groupe=line.split()\n",
    "                print(groupe)\n",
    "                machines.append(groupe[1])\n",
    "\n",
    "        print(machines)\n",
    "        del machines[0]\n",
    "        if (machines[0][4]=='Unreachable'):\n",
    "            return \"Leader is down, another manager has been selected!\"\n",
    "        return machines"
   ]
  },
  {
   "cell_type": "code",
   "execution_count": 38,
   "id": "f4bd78fb",
   "metadata": {},
   "outputs": [
    {
     "name": "stdout",
     "output_type": "stream",
     "text": [
      "['ID', 'HOSTNAME', 'STATUS', 'AVAILABILITY', 'MANAGER', 'STATUS', 'ENGINE', 'VERSION']\n",
      "['u8fv17w11ilszeg1e4amrpbgo', 'manager', 'Ready', 'Active', 'Leader', '19.03.12']\n",
      "['65yhijyy5djplj76ljo6xs81m', 'worker1', 'Ready', 'Active', 'Reachable', '19.03.12']\n",
      "['q456u2bjfl4dqewdqqx89tzkw', 'worker2', 'Ready', 'Active', 'Reachable', '19.03.12']\n",
      "['HOSTNAME', 'manager', 'worker1', 'worker2']\n"
     ]
    },
    {
     "data": {
      "text/plain": [
       "['manager', 'worker1', 'worker2']"
      ]
     },
     "execution_count": 38,
     "metadata": {},
     "output_type": "execute_result"
    }
   ],
   "source": [
    "get_nodes()"
   ]
  },
  {
   "cell_type": "code",
   "execution_count": null,
   "id": "3207272d",
   "metadata": {},
   "outputs": [],
   "source": []
  }
 ],
 "metadata": {
  "kernelspec": {
   "display_name": "Python 3",
   "language": "python",
   "name": "python3"
  },
  "language_info": {
   "codemirror_mode": {
    "name": "ipython",
    "version": 3
   },
   "file_extension": ".py",
   "mimetype": "text/x-python",
   "name": "python",
   "nbconvert_exporter": "python",
   "pygments_lexer": "ipython3",
   "version": "3.8.8"
  }
 },
 "nbformat": 4,
 "nbformat_minor": 5
}
